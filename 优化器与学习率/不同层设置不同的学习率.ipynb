{
 "cells": [
  {
   "cell_type": "markdown",
   "id": "04231ef7-bfc9-46ab-9ca1-da01c0e26bde",
   "metadata": {},
   "source": [
    "### 在迁移学习中，针对不同的层设置不同的学习率。对于backbone来说，已经是经过训练了，所以设置一个较小的学习率，对于后面的head设置一个较大的学习率，使得它更好的收敛。"
   ]
  },
  {
   "cell_type": "code",
   "execution_count": 2,
   "id": "2fa19ece-a7c1-4389-9953-675a62e76340",
   "metadata": {},
   "outputs": [
    {
     "ename": "NameError",
     "evalue": "name 'optim' is not defined",
     "output_type": "error",
     "traceback": [
      "\u001b[1;31m---------------------------------------------------------------------------\u001b[0m",
      "\u001b[1;31mNameError\u001b[0m                                 Traceback (most recent call last)",
      "Cell \u001b[1;32mIn[2], line 2\u001b[0m\n\u001b[0;32m      1\u001b[0m \u001b[38;5;66;03m#   在定义优化器的时候，用 list 将参数设置为不同的组，每个组( list 中的每个元素 )用字典表示，在字典中指明 参数组、该组的学习率\u001b[39;00m\n\u001b[1;32m----> 2\u001b[0m optimizer \u001b[38;5;241m=\u001b[39m optim\u001b[38;5;241m.\u001b[39mSGD([{\u001b[38;5;124m'\u001b[39m\u001b[38;5;124mparams\u001b[39m\u001b[38;5;124m'\u001b[39m: params_group_1, \u001b[38;5;124m'\u001b[39m\u001b[38;5;124mlr\u001b[39m\u001b[38;5;124m'\u001b[39m: \u001b[38;5;241m0.001\u001b[39m},\n\u001b[0;32m      3\u001b[0m                        {\u001b[38;5;124m'\u001b[39m\u001b[38;5;124mparams\u001b[39m\u001b[38;5;124m'\u001b[39m: params_group_2, \u001b[38;5;124m'\u001b[39m\u001b[38;5;124mlr\u001b[39m\u001b[38;5;124m'\u001b[39m: \u001b[38;5;241m0.0005\u001b[39m}])\n",
      "\u001b[1;31mNameError\u001b[0m: name 'optim' is not defined"
     ]
    }
   ],
   "source": [
    "#   在定义优化器的时候，用 list 将参数设置为不同的组，每个组( list 中的每个元素 )用字典表示，在字典中指明 参数组、该组的学习率\n",
    "optimizer = optim.SGD([{'params': params_group_1, 'lr': 0.001},\n",
    "                       {'params': params_group_2, 'lr': 0.0005}]) "
   ]
  },
  {
   "cell_type": "code",
   "execution_count": null,
   "id": "5e9f6eab-98c9-4540-8e3f-01fb801dc973",
   "metadata": {},
   "outputs": [],
   "source": [
    "# 若分组未特别指定学习率或其他参数，可使用默认值\n",
    "optimizer = optim.SGD([{'params': params_group_1},   # 未指定学习率的，使用默认学习率 0.001\n",
    "                       {'params': params_group_2, 'lr': 0.0005}],\n",
    "                      lr=0.001, momentum=0.9)   # 默认值"
   ]
  },
  {
   "cell_type": "code",
   "execution_count": null,
   "id": "8f3bd284-0d21-449a-9f68-ebecd99f93ab",
   "metadata": {},
   "outputs": [],
   "source": []
  },
  {
   "cell_type": "markdown",
   "id": "b748cd5c-9bd7-4805-950e-39c5492f8b9f",
   "metadata": {},
   "source": [
    "# 代码模板 1、将网络中的参数 按照模块进行分组\n",
    "  按照模块分组，一般是对不同的 模块设置不同的学习率"
   ]
  },
  {
   "cell_type": "code",
   "execution_count": 3,
   "id": "6a8b46e4-67b9-4122-9af0-f7f086be3e9a",
   "metadata": {},
   "outputs": [
    {
     "name": "stdout",
     "output_type": "stream",
     "text": [
      "0.0005\n",
      "0.001\n"
     ]
    }
   ],
   "source": [
    "import torchvision.models as models\n",
    "import torch\n",
    "\n",
    "model = models.resnet50(weights=None)\n",
    "# module_names = [name for name, layer in model.named_children()]\n",
    "\n",
    "layers = ['layer3', 'layer4', 'fc']\n",
    "\n",
    "g = [], []\n",
    "for name, param in model.named_parameters():\n",
    "    if any([layer in name for layer in layers]):\n",
    "        g[1].append(param) # 存储属于 layer3、layer4 或 fc 的参数。\n",
    "    else:\n",
    "        g[0].append(param) # 存储不需要特殊学习率的参数。\n",
    "\n",
    "optimizer = torch.optim.SGD([{'params': g[0]},   # 未指定学习率的，使用默认学习率 0.0005\n",
    "                             {'params': g[1], 'lr': 0.001}],\n",
    "                            lr=0.0005, momentum=0.9)\n",
    "\n",
    "print(optimizer.param_groups[0]['lr'])   # 0.0005\n",
    "print(optimizer.param_groups[1]['lr'])   # 0.001"
   ]
  },
  {
   "cell_type": "markdown",
   "id": "f4c4b17d-14e1-463b-9e53-fd7bb9492886",
   "metadata": {},
   "source": [
    "<!-- 举一个简单的例子说明\n",
    "为了更清楚地理解，我们来看一个具体的例子。\n",
    "\n",
    "示例场景：\n",
    "假设有一个层名称列表：layers = ['layer3', 'layer4', 'fc']。\n",
    "我们要检查的参数名称是：name = 'layer3.0.conv1.weight'。\n",
    "逐步计算：\n",
    "执行列表推导式：\n",
    "对于 layers 中的每个元素，检查它是否在 name 中：\n",
    "'layer3' in 'layer3.0.conv1.weight' → 是的，返回 True（因为 'layer3' 是 name 的子字符串）。\n",
    "'layer4' in 'layer3.0.conv1.weight' → 否，返回 False（name 中没有 'layer4'）。\n",
    "'fc' in 'layer3.0.conv1.weight' → 否，返回 False（name 中没有 'fc'）。\n",
    "结果是一个布尔值列表：[True, False, False]。\n",
    "应用 any() 函数：\n",
    "any([True, False, False]) 检查这个列表。\n",
    "因为列表中至少有一个 True（来自 'layer3'），所以 any() 返回 True。\n",
    "另一个场景：\n",
    "如果 name = 'layer1.0.conv1.weight'：\n",
    "'layer3' in 'layer1.0.conv1.weight' → False。\n",
    "'layer4' in 'layer1.0.conv1.weight' → False。\n",
    "'fc' in 'layer1.0.conv1.weight' → False。\n",
    "布尔值列表为：[False, False, False]。\n",
    "any([False, False, False]) 返回 False，因为没有一个层名称匹配。 -->"
   ]
  },
  {
   "cell_type": "markdown",
   "id": "4d306b37-c32d-43f3-bcef-779855c6cb67",
   "metadata": {},
   "source": [
    "举一个简单的例子说明\n",
    "为了更清楚地理解，我们来看一个具体的例子。\n",
    "\n",
    "示例场景：\n",
    "假设有一个层名称列表：layers = ['layer3', 'layer4', 'fc']。\n",
    "我们要检查的参数名称是：name = 'layer3.0.conv1.weight'。\n",
    "逐步计算：\n",
    "执行列表推导式：\n",
    "对于 layers 中的每个元素，检查它是否在 name 中：\n",
    "'layer3' in 'layer3.0.conv1.weight' → 是的，返回 True（因为 'layer3' 是 name 的子字符串）。\n",
    "'layer4' in 'layer3.0.conv1.weight' → 否，返回 False（name 中没有 'layer4'）。\n",
    "'fc' in 'layer3.0.conv1.weight' → 否，返回 False（name 中没有 'fc'）。\n",
    "结果是一个布尔值列表：[True, False, False]。\n",
    "应用 any() 函数：\n",
    "any([True, False, False]) 检查这个列表。\n",
    "因为列表中至少有一个 True（来自 'layer3'），所以 any() 返回 True。\n",
    "\n",
    "另一个场景：\n",
    "如果 name = 'layer1.0.conv1.weight'：\n",
    "'layer3' in 'layer1.0.conv1.weight' → False。\n",
    "'layer4' in 'layer1.0.conv1.weight' → False。\n",
    "'fc' in 'layer1.0.conv1.weight' → False。\n",
    "布尔值列表为：[False, False, False]。\n",
    "any([False, False, False]) 返回 False，因为没有一个层名称匹配。"
   ]
  },
  {
   "cell_type": "code",
   "execution_count": null,
   "id": "90c15081-cc37-461d-88e7-b86f4c6de088",
   "metadata": {},
   "outputs": [],
   "source": []
  }
 ],
 "metadata": {
  "kernelspec": {
   "display_name": "pytorch22",
   "language": "python",
   "name": "pytorch22"
  },
  "language_info": {
   "codemirror_mode": {
    "name": "ipython",
    "version": 3
   },
   "file_extension": ".py",
   "mimetype": "text/x-python",
   "name": "python",
   "nbconvert_exporter": "python",
   "pygments_lexer": "ipython3",
   "version": "3.11.8"
  }
 },
 "nbformat": 4,
 "nbformat_minor": 5
}
